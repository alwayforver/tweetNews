{
 "cells": [
  {
   "cell_type": "code",
   "execution_count": 3,
   "metadata": {
    "collapsed": false
   },
   "outputs": [
    {
     "name": "stderr",
     "output_type": "stream",
     "text": [
      "PLSABet run at node 0...\n",
      "zeros in sigma\n",
      "iteration: 0\n"
     ]
    },
    {
     "name": "stdout",
     "output_type": "stream",
     "text": [
      "iteration: 0\n",
      "iteration: 1\n",
      "dLi = 666.116505152"
     ]
    },
    {
     "name": "stderr",
     "output_type": "stream",
     "text": [
      "iteration: 1\n",
      "dLi = 666.116505152\n"
     ]
    },
    {
     "name": "stdout",
     "output_type": "stream",
     "text": [
      "\n",
      "iteration: 2\n",
      "dLi = 176.691097815"
     ]
    },
    {
     "name": "stderr",
     "output_type": "stream",
     "text": [
      "iteration: 2\n",
      "dLi = 176.691097815\n"
     ]
    },
    {
     "name": "stdout",
     "output_type": "stream",
     "text": [
      "\n",
      "iteration: 3\n",
      "dLi = 78.0636453018"
     ]
    },
    {
     "name": "stderr",
     "output_type": "stream",
     "text": [
      "iteration: 3\n",
      "dLi = 78.0636453018\n"
     ]
    },
    {
     "name": "stdout",
     "output_type": "stream",
     "text": [
      "\n",
      "iteration: 4\n",
      "dLi = 51.0676202699"
     ]
    },
    {
     "name": "stderr",
     "output_type": "stream",
     "text": [
      "iteration: 4\n",
      "dLi = 51.0676202699\n"
     ]
    },
    {
     "name": "stdout",
     "output_type": "stream",
     "text": [
      "\n",
      "iteration: 5\n",
      "dLi = 25.7495031762"
     ]
    },
    {
     "name": "stderr",
     "output_type": "stream",
     "text": [
      "iteration: 5\n",
      "dLi = 25.7495031762\n"
     ]
    },
    {
     "name": "stdout",
     "output_type": "stream",
     "text": [
      "\n",
      "iteration: 6\n",
      "dLi = 13.7554514903"
     ]
    },
    {
     "name": "stderr",
     "output_type": "stream",
     "text": [
      "iteration: 6\n",
      "dLi = 13.7554514903\n"
     ]
    },
    {
     "name": "stdout",
     "output_type": "stream",
     "text": [
      "\n",
      "iteration: 7\n",
      "dLi = 16.3278980956"
     ]
    },
    {
     "name": "stderr",
     "output_type": "stream",
     "text": [
      "iteration: 7\n",
      "dLi = 16.3278980956\n"
     ]
    },
    {
     "name": "stdout",
     "output_type": "stream",
     "text": [
      "\n",
      "iteration: 8\n",
      "dLi = 18.5616082698"
     ]
    },
    {
     "name": "stderr",
     "output_type": "stream",
     "text": [
      "iteration: 8\n",
      "dLi = 18.5616082698\n"
     ]
    },
    {
     "name": "stdout",
     "output_type": "stream",
     "text": [
      "\n",
      "iteration: 9\n",
      "dLi = 3.52352119339"
     ]
    },
    {
     "name": "stderr",
     "output_type": "stream",
     "text": [
      "iteration: 9\n",
      "dLi = 3.52352119339\n"
     ]
    },
    {
     "name": "stdout",
     "output_type": "stream",
     "text": [
      "\n",
      "-174241.170486\n",
      "pLSA done in 9.85316896439\n"
     ]
    },
    {
     "name": "stderr",
     "output_type": "stream",
     "text": [
      "-174241.170486\n"
     ]
    }
   ],
   "source": [
    "import sys,os\n",
    "import pickle\n",
    "from eknot_utils import EventNode,NodeParams\n",
    "from utils import loadPickle\n",
    "# data_pickle inits_pickle tweetPre out_plsa_pickle\n",
    "[Xs,vects,DT,ind2obj] = loadPickle('../data/20160115_0122.pickle')\n",
    "[inits,labels,centers] = loadPickle('../data/inits_20160115_0122_80.pickle')\n",
    "tweetPre='/home/wtong8/NewsTwitter/tweets/'\n",
    "\n",
    "### params move to argv ### \n",
    "eventID=0\n",
    "#    Xinds = [0,1,2,3]\n",
    "Xinds = [0,5]\n",
    "ww = 1\n",
    "wp=1\n",
    "wl=1\n",
    "wo=1\n",
    "#    ws = [ww,wp,wl,wo]\n",
    "ws = [ww,1]\n",
    "selectTime = 1  #\n",
    "wt = 0.5\n",
    "lambdaB = 0.5\n",
    "Learn=(1,10)  #\n",
    "params = NodeParams(Xinds,ws,lambdaB,selectTime,wt,Learn)\n",
    "### run ###\n",
    "rootNode = EventNode(Xs,DT,params,inits)\n",
    "rootNode.run()\n",
    "    "
   ]
  },
  {
   "cell_type": "code",
   "execution_count": 8,
   "metadata": {
    "collapsed": false
   },
   "outputs": [
    {
     "data": {
      "text/plain": [
       "u'$1'"
      ]
     },
     "execution_count": 8,
     "metadata": {},
     "output_type": "execute_result"
    }
   ],
   "source": [
    "vects[0].get_feature_names()[0]\n"
   ]
  }
 ],
 "metadata": {
  "kernelspec": {
   "display_name": "Python 2",
   "language": "python",
   "name": "python2"
  },
  "language_info": {
   "codemirror_mode": {
    "name": "ipython",
    "version": 2
   },
   "file_extension": ".py",
   "mimetype": "text/x-python",
   "name": "python",
   "nbconvert_exporter": "python",
   "pygments_lexer": "ipython2",
   "version": "2.7.10"
  }
 },
 "nbformat": 4,
 "nbformat_minor": 0
}
