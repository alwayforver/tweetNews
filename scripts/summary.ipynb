{
 "cells": [
  {
   "cell_type": "code",
   "execution_count": 2,
   "metadata": {
    "collapsed": false
   },
   "outputs": [],
   "source": [
    "%load_ext autoreload\n",
    "%autoreload 2\n",
    "import sys,os\n",
    "import pickle\n",
    "from eknot_utils import EventNode,NodeParams\n",
    "from utils import loadPickle,triHits,norm2,printTopWords\n",
    "from eknot_utils import *\n",
    "\n",
    "[resDocInd,tweetsObj,tweetsObjDedup,tweetsScore]= loadPickle('../output/summary_20160107_0114_80_0.pickle')\n",
    "[Xs,vects,DT,ind2obj] = loadPickle('../data/20160107_0114.pickle')\n",
    "rootParams,rootNodeDescriptor = loadPickle('../output/plsa_20160107_0114_80.pickle')\n",
    "\n",
    "from time import time"
   ]
  },
  {
   "cell_type": "code",
   "execution_count": 13,
   "metadata": {
    "collapsed": false,
    "scrolled": true
   },
   "outputs": [
    {
     "name": "stdout",
     "output_type": "stream",
     "text": [
      "entscore in 0.0453150272369\n",
      "get news Context in 0.682107925415\n",
      "18 294 292\n",
      "append in 32.7112281322\n",
      "vectorize in 25.2670509815\n",
      "ents append + vec in 5.39676213264\n",
      "get tweet Context in 63.390681982\n"
     ]
    }
   ],
   "source": [
    "topK = 20 # ent used\n",
    "i = 0\n",
    "t0 = time()\n",
    "Pw_zs = rootNodeDescriptor.Pw_zs\n",
    "Pe_z = Pw_zs[1][:,i]\n",
    "evocab = vects[5].get_feature_names()\n",
    "vocab = vects[0].get_feature_names()\n",
    "\n",
    "ent_ind,ents = getEntInd(evocab,Pe_z,topK)\n",
    "\n",
    "print( \"entscore in \"+str(time() - t0))\n",
    "t0 = time()\n",
    "\n",
    "newsObj = [ind2obj[n] for n in resDocInd]\n",
    "XN,XEn,NEb,sentencesIn,sentencesInObj = getNewsContext(newsObj,ent_ind,ents,vocab)\n",
    "print( \"get news Context in \"+str(time() - t0))\n",
    "print len(newsObj),len(sentencesIn),len(set(sentencesIn))\n",
    "t0 = time()\n",
    "\n",
    "XT,XEt,TEb,tweetsIn,tweetsInObj = getTweetContext(tweetsObjDedup,ent_ind,ents,vocab)\n",
    "print( \"get tweet Context in \"+str(time() - t0))\n",
    "\n",
    "\n"
   ]
  },
  {
   "cell_type": "code",
   "execution_count": 14,
   "metadata": {
    "collapsed": true
   },
   "outputs": [],
   "source": [
    "_XEn = XEn\n",
    "_XEt = XEt\n",
    "_NEb = NEb\n",
    "_TEb = TEb"
   ]
  },
  {
   "cell_type": "code",
   "execution_count": 15,
   "metadata": {
    "collapsed": false
   },
   "outputs": [
    {
     "name": "stdout",
     "output_type": "stream",
     "text": [
      "43813 42455 42455\n",
      "init score in 0.0731830596924\n",
      "graph constr in 0.146972179413\n",
      "==n converge 2 7.90854238998e-08\n",
      "trihits in 0.0223200321198\n"
     ]
    }
   ],
   "source": [
    "\"\"\"\n",
    "#####\n",
    "rows = []\n",
    "interestedEnts = ['tennessee_loc_|','7-eleven_org_|','odds_other_|']\n",
    "\n",
    "for e in interestedEnts:\n",
    "    rows.append(ent_ind[e])\n",
    "rows = np.array(rows)\n",
    "#rows = np.array([10,33,34,40])\n",
    "XEn = _XEn[rows,:]\n",
    "XEt = _XEt[rows,:]\n",
    "NEb = _NEb[:,rows]\n",
    "TEb = _TEb[:,rows]\n",
    "#####\n",
    "\"\"\"\n",
    "print len(tweetsObjDedup),len(tweetsIn),len(set(tweetsIn))\n",
    "t0 = time()\n",
    "\n",
    "newsScore = XN.dot(Pw_zs[0][:,i])\n",
    "\n",
    "#tweetsScore = XT.dot(Pw_zs[0][:,i])\n",
    "tweetsScore = []\n",
    "for t in tweetsInObj:\n",
    "    tweetsScore.append(float(t.pop))\n",
    "tweetsScore = np.array(tweetsScore)\n",
    "\n",
    "print( \"init score in \"+str(time() - t0))\n",
    "t0 = time()\n",
    "\n",
    "NE_ = XN.dot(XEn.T) #.multiply(NEb)\n",
    "TE_ = XT.dot(XEt.T) #.multiply(TEb)\n",
    "NE,EN = normBypartite(NE_)\n",
    "TE,ET = normBypartite(TE_)\n",
    "print( \"graph constr in \"+str(time() - t0))\n",
    "t0 = time()\n",
    "\n",
    "nScore, tScore = triHits(newsScore, tweetsScore, NE, EN, TE, ET, 0.2, 0.2, 5)\n",
    "print( \"trihits in \"+str(time() - t0))\n",
    "t0 = time()"
   ]
  },
  {
   "cell_type": "code",
   "execution_count": 16,
   "metadata": {
    "collapsed": false,
    "scrolled": true
   },
   "outputs": [
    {
     "name": "stdout",
     "output_type": "stream",
     "text": [
      "==n converge 2 3.29022496214e-08\n",
      "0.0436067020906\n",
      "=========\n",
      "216 0.134491649562 2016-01-07 02:17:45 No Winner in  Powerball Lottery,  Jackpot Now Estimated $675 Million | No Winner in Powerball Lottery, Jackpot Now Estimated $675 Million\n",
      "122 0.126589386593 2016-01-12 08:59:00 Powerball  hits $1.5 billion, largest-ever lottery  jackpot for one winner | Powerball hits $1.5 billion, largest-ever lottery jackpot for one winner\n",
      "109 0.124220649441 2016-01-13 22:01:01 California lottery says it has a winner in $1.6 billion  Powerball  jackpot | California lottery says it has a winner in $1.6 billion Powerball jackpot\n",
      "21 0.109463485842 2016-01-07 10:11:15 (Matt Rourke/ AP) The  Powerball  lottery  jackpot has already jumped to $700 million. | Powerball jackpot, already at a record level, could reach $1 billion\n",
      "270 0.107324769868 2016-01-12 10:05:48 When you win the $1.5 billion  Powerball  lottery, here's what you should do | When you win the $1.5 billion Powerball lottery, here's what you should do\n",
      "187 0.105672755741 2016-01-08 09:12:00 The public frenzy over a record  Powerball  lottery  jackpot continued to spread Friday as  California lottery officials announced that the  prize had swelled to $800 million. | How high will it go? Powerball jackpot balloons to $800 million\n",
      "67 0.10564896178 2016-01-13 23:53:00 California winner will have to share $1.5-billion  Powerball  jackpot | California winner will have to share $1.5-billion Powerball jackpot\n",
      "154 0.100926239264 2016-01-13 22:58:42 $1.5B  Powerball  jackpot: At least 3 winning tickets sold | $1.5B Powerball jackpot: At least 3 winning tickets sold\n",
      "123 0.0981005643533 2016-01-12 08:59:00 The  Powerball  lottery drawing will be held on Wednesday. | Powerball hits $1.5 billion, largest-ever lottery jackpot for one winner\n",
      "78 0.0980560809237 2016-01-13 23:53:00 The  Powerball  jackpot started at $40 million in November, and as drawing after drawing yielded no winner, it grew to a staggering $1.5 billion, the largest  jackpot in  U.S. history. | California winner will have to share $1.5-billion Powerball jackpot\n",
      "93 0.0978831870628 2016-01-09 17:44:00 Nationwide, more than $1 billion in  Powerball tickets have been sold so far,  lottery officials said. | With Powerball drawing near, many seek record $900 million jackpot\n",
      "17 0.0974146759142 2016-01-14 18:32:00 The cycle will start again on Saturday night when the next  Powerball drawing will have an estimated  jackpot of $40 million, according to the  lottery operator's website. | Winners of $1.6 billion US Powerball jackpot still officially unknown\n",
      "44 0.0963058140055 2016-01-12 18:18:00 But when another $317-million  Powerball  jackpot came around in February 2015,  New Jersey sold only $4.8 million in tickets -- a 25% plunge for the same-sized  jackpot. | Jackpot fatigue: When $300 million just isn't worth the trouble of buying a lottery ticket\n",
      "68 0.0962537271932 2016-01-13 23:53:00 The chances of winning the record-setting $1.5-billion  Powerball  jackpot were a ridiculous 1 in 292 million. | California winner will have to share $1.5-billion Powerball jackpot\n",
      "155 0.09620767498 2016-01-13 22:58:42 LOS ANGELES -- A winning ticket for Wednesday night's world record $1.5 billion  Powerball  jackpot was sold in  suburban  Los Angeles, another in  Florida and a third in  Tennessee,  California lottery officials said :The identities of the purchasers of the winning tickets wasn't known. | $1.5B Powerball jackpot: At least 3 winning tickets sold\n",
      "19 0.0960633757001 2016-01-07 10:11:15 A person purchases  Powerball  lottery tickets from a  newsstand Wednesday. | Powerball jackpot, already at a record level, could reach $1 billion\n",
      "138 0.0945995711455 2016-01-14 12:43:00 Once split up, the  Florida winner's share of the  jackpot will be just over $528 million, said Lottery spokeswoman Shelly Gerteisen. | Powerball buzz continues; Seminole's $2M winner ID'd\n",
      "149 0.0945981164726 2016-01-14 12:43:00 In 2013, a then 84-year-old  Tampa Bay area woman won a $590.5 million  Powerball  jackpot, then the largest  single  jackpot in  American  lottery history. | Powerball buzz continues; Seminole's $2M winner ID'd\n",
      "15 0.0940285095401 2016-01-14 18:32:00 Aside from the  jackpot winners in Wednesday's drawing, some 26 million ticket holders won smaller prizes ranging from $2 million to $4, depending on the combination of numbers matched in the  Powerball drawing, said Kelly Cripe, spokeswoman for the  Texas lottery. | Winners of $1.6 billion US Powerball jackpot still officially unknown\n",
      "186 0.0935909257096 2016-01-08 09:12:00 How high will it go?  Powerball  jackpot  balloons to $800 million | How high will it go? Powerball jackpot balloons to $800 million\n",
      "------\n",
      "27347 0.602771114725 8033 2016-01-13 17:40:14  RT @TravisBryantNYC: If this ticket wins I will evenly split the $1.4 billion  jackpot with every  single person that  RTs this before Weds. h... |  AEC_Regent_III_RT_other_|RT_| @TravisBryantNYC: If this ticket wins I will evenly split the $1.4 billion  Progressive_jackpot_other_|jackpot_| with every  Single_(music)_other_|single_| person that  AEC_Regent_III_RT_other_|RTs_| this before Weds. h... [u'wins', u'ticket', u'split', u'single', u'person', u'jackpot', u'h', u'evenly', u'billion', u'$1.4']\n",
      "826 0.432887658515 5769 2016-01-14 12:15:29  RT @MarkMartinCali: I'm so  Blessed to hit the  Jackpot I'm giving away $1M to one lucky person who follows and shares this!  # Powerball http |  RT_(TV_network)_org_|RT_| @MarkMartinCali: I'm so  Beatification_other_|Blessed_| to hit the  Progressive_jackpot_other_|Jackpot_| I'm giving away $1M to one lucky person who follows and shares this!  # Powerball_other_|Powerball_| http [u'shares', u'powerball', u'person', u'm', u'lucky', u'jackpot', u'hit', u'giving', u'follows', u'blessed', u'away', u'$1']\n",
      "14 0.296770790332 3955 2016-01-13 21:16:00  RT @TheEllenShow: The  Powerball is up to $1.5 BILLION. If I win, I'll give a  dollar to each of my followers. No, that's crazy. Just the one... |  RT_(TV_network)_org_|RT_| @TheEllenShow: The  Powerball_other_|Powerball_| is up to $1.5 BILLION. If I win, I'll give a  United_States_dollar_other_|dollar_| to each of my followers. No, that's crazy. Just the one... [u'win', u'powerball', u'followers', u'dollar', u'crazy', u'billion', u'$1.5']\n",
      "4 0.200348422298 2670 2016-01-14 17:48:16 RT @madler9000: BREAKING: Another winning # Powerball ticket has emerged from  Wisconsin, employees from  Manitowoc  Sheriffs Dept. http | RT @madler9000: BREAKING: Another winning # Powerball_other_|Powerball_| ticket has emerged from  Wisconsin_loc_|Wisconsin_|, employees from  Manitowoc,_Wisconsin_loc_|Manitowoc_|  Sheriff_other_|Sheriffs_| Dept. http [u'wisconsin', u'winning', u'ticket', u'sheriffs', u'powerball', u'manitowoc', u'employees', u'emerged', u'dept', u'breaking']\n",
      "20643 0.194270436453 2589 2016-01-10 04:49:37  RT @WORLDSTAR: No winners in tonight's # Powerball drawing. Next Wednesday's # jackpot rises to an unbelievable $1.3 Billion. http |  RT_(TV_network)_org_|RT_| @WORLDSTAR: No winners in tonight's # Powerball_other_|Powerball_| drawing. Next Wednesday's # Progressive_jackpot_other_|jackpot_| rises to an unbelievable $1.3 Billion. http [u'winners', u'wednesday', u'unbelievable', u'tonight', u'rises', u'powerball', u'jackpot', u'drawing', u'billion', u'$1.3']\n",
      "29915 0.189693187853 2528 2016-01-10 04:56:51  RT @Channel955: EVERYONE that  RTs this photo... Gets $1,000 if this wins. # Powerball is up to $900 million tonight #955Powerball http |  RT_(TV_network)_org_|RT_| @Channel955: EVERYONE that  AEC_Regent_III_RT_other_|RTs_| this photo... Gets $1,000 if this wins. # Powerball_other_|Powerball_| is up to $900 million tonight #955Powerball http [u'wins', u'tonight', u'powerball', u'photo', u'million', u'gets', u'$900', u'$1,000']\n",
      "102 0.163880507228 2184 2016-01-14 23:00:14  RT @TheGuysTehLimit: So thankful I won but I wanna share the wealth! I'll give $1,000 to everyone that retweets and follows! # Powerball  htt... |  RT_(TV_network)_org_|RT_| @TheGuysTehLimit: So thankful I won but I wanna share the wealth! I'll give $1,000 to everyone that retweets and follows! # Powerball_other_|Powerball_|  Human_Terrain_System_org_|htt_|... [u'won', u'wealth', u'thankful', u'share', u'powerball', u'follows', u'$1,000']\n",
      "42167 0.157202226484 2095 2016-01-12 23:48:21 RT @chancetherapper: I hope you win the # Powerball and lose ya ticket | RT @chancetherapper: I hope you win the # Powerball_other_|Powerball_| and lose ya ticket [u'ya', u'win', u'ticket', u'powerball', u'lose', u'hope']\n",
      "28879 0.149698540256 1995 2016-01-10 06:47:17  RT @ CNN: No  Powerball  jackpot winner. Next Wednesday's drawing will be an estimated $1.3 billion dollars. |  RT_(TV_network)_org_|RT_| @ CNN_org_|CNN_|: No  Powerball_other_|Powerball_|  Progressive_jackpot_other_|jackpot_| winner. Next Wednesday's drawing will be an estimated $1.3 billion dollars. [u'winner', u'wednesday', u'powerball', u'jackpot', u'estimated', u'drawing', u'dollars', u'billion', u'$1.3']\n",
      "19505 0.141669595992 1888 2016-01-14 04:59:54  RT @TheEllenShow: Does anyone know the winning  Powerball numbers?   Sent from my  iPhone 4 in  Chino Hills, California |  AEC_Regent_III_RT_other_|RT_| @TheEllenShow: Does anyone know the winning  Powerball_other_|Powerball_| numbers?   Sent from my  IPhone_4_other_|iPhone_4_| in  Chino_Hills,_California_loc_|Chino_Hills,_California_| [u'winning', u'sent', u'powerball', u'numbers', u'know', u'iphone', u'hills', u'chino', u'california', u'4']\n",
      "39925 0.129813771751 1730 2016-01-13 16:24:55 RT @KARK4News: LUCKY TICKET? Our  boss @AustinKellerman promises to split $1.3 billion # Powerball  prize with everyone who  RTs this! http | RT @KARK4News: LUCKY TICKET? Our  Boss_(video_gaming)_other_|boss_| @AustinKellerman promises to split $1.3 billion # Powerball_other_|Powerball_|  Prize_other_|prize_| with everyone who  AEC_Regent_III_RT_other_|RTs_| this! http [u'ticket', u'split', u'promises', u'prize', u'powerball', u'lucky', u'boss', u'billion', u'$1.3']\n",
      "26474 0.10482649661 1397 2016-01-14 15:16:45  RT @ThepowerballGuy: Hello. I'm Mark the # Powerball winner. I'm giving away $1000 to everyone that retweets me. Honestly. No joke. http |  RT_(TV_network)_org_|RT_| @ThepowerballGuy: Hello. I'm Mark the # Powerball_other_|Powerball_| winner. I'm giving away $1000 to everyone that retweets me. Honestly. No joke. http [u'winner', u'powerball', u'mark', u'joke', u'honestly', u'hello', u'giving', u'away']\n",
      "19087 0.101975095844 1359 2016-01-08 03:08:20 RT @TheCatWhisprer: [1 of 4  car accidents caused by  texting &amp; driving] PEOPLE: won't be me [1 in 292 million chance of winning  powerball] P... | RT @TheCatWhisprer: [1 of 4  Traffic_collision_other_|car_accidents_| caused by  Text_messaging_other_|texting_| &amp; driving] PEOPLE: won't be me [1 in 292 million chance of winning  Powerball_other_|powerball_|] P... [u\"won't\", u'winning', u'powerball', u'people', u'p', u'million', u'driving', u'chance', u'caused', u'car', u'accidents', u'4', u'292', u'1']\n",
      "1579 0.0974728841066 1299 2016-01-16 03:31:48  Powerball Winners are Giving Away Cash To Random People - The  Powerball Winners are Giving Back http |  Powerball_other_|Powerball_| Winners are Giving Away Cash To Random People - The  Powerball_other_|Powerball_| Winners are Giving Back http [u'winners', u'random', u'powerball', u'people', u'giving', u'cash', u'away']\n",
      "24026 0.0717352403433 956 2016-01-10 08:26:03  RT @CNBCnow: BREAKING: Lottery officials say there were NO winner in tonight's  Powerball,  jackpot now at record $1,300,000,000 http |  RT_(TV_network)_org_|RT_| @CNBCnow: BREAKING: Lottery officials say there were NO winner in tonight's  Powerball_other_|Powerball_|,  Progressive_jackpot_other_|jackpot_| now at record $1,300,000,000 http [u'winner', u'tonight', u'say', u'record', u'powerball', u'officials', u'lottery', u'jackpot', u'breaking']\n",
      "28563 0.071134945445 948 2016-01-13 13:22:28  RT @headtalker: We're sharing the winnings from Wednesday's 1.5B # Powerball drawing.  RT to win a part of this cash!  RT Fav &amp; Comment http |  RT_(TV_network)_org_|RT_| @headtalker: We're sharing the winnings from Wednesday's 1.5B # Powerball_other_|Powerball_| drawing.  RT_(TV_network)_org_|RT_| to win a part of this cash!  RT_(TV_network)_org_|RT_| Fav &amp; Comment http [u'winnings', u'win', u'wednesday', u'sharing', u'powerball', u'drawing', u'comment', u'cash', u'b', u'1.5']\n",
      "41 0.0687337658519 916 2016-01-14 03:55:48  RT @ESPNStatsInfo: How does $1.5 billion  stack up in the  sports world?  A look at what the  Powerball  jackpot equates to- http |  RT_(TV_network)_org_|RT_| @ESPNStatsInfo: How does $1.5 billion  Stack_(abstract_data_type)_other_|stack_| up in the  Sport_other_|sports_| world?  A look at what the  Powerball_other_|Powerball_|  Progressive_jackpot_other_|jackpot_| equates to- http [u'world', u'stack', u'sports', u'powerball', u'look', u'jackpot', u'billion', u'$1.5']\n",
      "1507 0.0613051164858 817 2016-01-10 06:49:42  RT @ ABC: LATEST: # Powerball  jackpot soars to world record $1.3 BILLION http |  RT_(TV_network)_org_|RT_| @ American_Broadcasting_Company_org_|ABC_|: LATEST: # Powerball_other_|Powerball_|  Progressive_jackpot_other_|jackpot_| soars to world record $1.3 BILLION http [u'world', u'soars', u'record', u'powerball', u'latest', u'jackpot', u'billion', u'$1.3']\n",
      "24401 0.0587538631682 783 2016-01-14 11:37:50  RT @MarkMartinCali:  Last call of the morning for cash. Retweet for your share of the winnings! # Powerball # Jackpot #GivingAway |  AEC_Regent_III_RT_other_|RT_| @MarkMartinCali:  Last_call_(bar_term)_other_|Last_call_| of the morning for cash. Retweet for your share of the winnings! # Powerball_other_|Powerball_| # Progressive_jackpot_other_|Jackpot_| #GivingAway [u'winnings', u'share', u'powerball', u'morning', u'jackpot', u'cash']\n",
      "40261 0.0583786788568 778 2016-01-14 02:22:38 RT @lexilunchick12: If I won the  Powerball I'd buy a shirt from  Urban Outfitters and use the remaining $4 to get a  snack | RT @lexilunchick12: If I won the  Powerball_other_|Powerball_| I'd buy a shirt from  Urban_Outfitters_org_|Urban_Outfitters_| and use the remaining $4 to get a  Snack_food_other_|snack_| [u'won', u'use', u'urban', u'shirt', u'remaining', u'powerball', u'buy', u'$4']\n",
      "*****\n",
      "187 0.116043649021 2016-01-08 09:12:00 The public frenzy over a record  Powerball  lottery  jackpot continued to spread Friday as  California lottery officials announced that the  prize had swelled to $800 million. | How high will it go? Powerball jackpot balloons to $800 million\n",
      "109 0.114446192344 2016-01-13 22:01:01 California lottery says it has a winner in $1.6 billion  Powerball  jackpot | California lottery says it has a winner in $1.6 billion Powerball jackpot\n",
      "216 0.114285142504 2016-01-07 02:17:45 No Winner in  Powerball Lottery,  Jackpot Now Estimated $675 Million | No Winner in Powerball Lottery, Jackpot Now Estimated $675 Million\n",
      "155 0.113225352087 2016-01-13 22:58:42 LOS ANGELES -- A winning ticket for Wednesday night's world record $1.5 billion  Powerball  jackpot was sold in  suburban  Los Angeles, another in  Florida and a third in  Tennessee,  California lottery officials said :The identities of the purchasers of the winning tickets wasn't known. | $1.5B Powerball jackpot: At least 3 winning tickets sold\n",
      "21 0.103999986691 2016-01-07 10:11:15 (Matt Rourke/ AP) The  Powerball  lottery  jackpot has already jumped to $700 million. | Powerball jackpot, already at a record level, could reach $1 billion\n",
      "122 0.100021129307 2016-01-12 08:59:00 Powerball  hits $1.5 billion, largest-ever lottery  jackpot for one winner | Powerball hits $1.5 billion, largest-ever lottery jackpot for one winner\n",
      "93 0.0977021437151 2016-01-09 17:44:00 Nationwide, more than $1 billion in  Powerball tickets have been sold so far,  lottery officials said. | With Powerball drawing near, many seek record $900 million jackpot\n",
      "110 0.0975204362945 2016-01-13 22:01:01 The winning ticket was sold at a  7-Eleven  convenience store in  Chino Hills, a  suburb east of  Los Angeles, California Lottery officials said. | California lottery says it has a winner in $1.6 billion Powerball jackpot\n",
      "6 0.0974750595594 2016-01-14 18:32:00 At a media conference in front of the  California  7-Eleven,  lottery officials presented a symbolic check for $1 million to the owner of the  franchise, Balbir Atwal, for selling a  jackpot winning ticket. | Winners of $1.6 billion US Powerball jackpot still officially unknown\n",
      "38 0.0972114992366 2016-01-07 10:11:15 Realistically, the chances of winning the big  jackpot are 1 in 292.2 million, according to  lottery officials. | Powerball jackpot, already at a record level, could reach $1 billion\n",
      "1 0.0968616785314 2016-01-14 18:32:00 Each of the winning tickets is worth $528.8 million to the holders,  lottery officials said in  California, one of 44 states plus  Washington, D.C., and two  U.S. territories that sold millions of  Powerball tickets. | Winners of $1.6 billion US Powerball jackpot still officially unknown\n",
      "123 0.0967457383208 2016-01-12 08:59:00 The  Powerball  lottery drawing will be held on Wednesday. | Powerball hits $1.5 billion, largest-ever lottery jackpot for one winner\n",
      "138 0.0964929629227 2016-01-14 12:43:00 Once split up, the  Florida winner's share of the  jackpot will be just over $528 million, said Lottery spokeswoman Shelly Gerteisen. | Powerball buzz continues; Seminole's $2M winner ID'd\n",
      "270 0.0962296024368 2016-01-12 10:05:48 When you win the $1.5 billion  Powerball  lottery, here's what you should do | When you win the $1.5 billion Powerball lottery, here's what you should do\n",
      "126 0.0952381187063 2016-01-12 08:59:00 The grand  prize in Wednesday's drawing is the world's richest  lottery  jackpot that could go to a  single ticketholder, and the amount is expected to rise further before then, according to  lottery officials. | Powerball hits $1.5 billion, largest-ever lottery jackpot for one winner\n",
      "153 0.094561070443 2016-01-14 12:43:00 Florida Lottery officials said  Publix will receive $100,000 for selling the  jackpot ticket. | Powerball buzz continues; Seminole's $2M winner ID'd\n",
      "17 0.0932291628767 2016-01-14 18:32:00 The cycle will start again on Saturday night when the next  Powerball drawing will have an estimated  jackpot of $40 million, according to the  lottery operator's website. | Winners of $1.6 billion US Powerball jackpot still officially unknown\n",
      "15 0.0915350274878 2016-01-14 18:32:00 Aside from the  jackpot winners in Wednesday's drawing, some 26 million ticket holders won smaller prizes ranging from $2 million to $4, depending on the combination of numbers matched in the  Powerball drawing, said Kelly Cripe, spokeswoman for the  Texas lottery. | Winners of $1.6 billion US Powerball jackpot still officially unknown\n",
      "2 0.0909897970472 2016-01-14 18:32:00 The winning numbers of 08 27 34 04 19 and  Powerball 10, picked in a drawing on Wednesday night, appeared on tickets sold in three stores: a  7-Eleven  convenience store in  Chino Hills, California, a  Publix supermarket in  Melbourne Beach, Florida and Naifeh's Food Mart in Munford, Tennessee. | Winners of $1.6 billion US Powerball jackpot still officially unknown\n",
      "67 0.0907996517 2016-01-13 23:53:00 California winner will have to share $1.5-billion  Powerball  jackpot | California winner will have to share $1.5-billion Powerball jackpot\n",
      "------\n",
      "6569 0.0106567994967 2 2016-01-15 01:49:29 RT @mreid_7: My winning ticket for the  Powerball  jackpot, retweet and win $1,000!! # Powerball #Lottery http | RT @mreid_7: My winning ticket for the  Powerball_other_|Powerball_|  Progressive_jackpot_other_|jackpot_|, retweet and win $1,000!! # Powerball_other_|Powerball_| #Lottery http [u'winning', u'win', u'ticket', u'powerball', u'lottery', u'jackpot', u'$1,000']\n",
      "6443 0.0104529380234 1 2016-01-14 10:20:54 Winning  Powerball ticket sold in  California as numbers drawn for $1.5bn  jackpot # Powerball # lottery # Jackpot #notme http | Winning  Powerball_other_|Powerball_| ticket sold in  California_loc_|California_| as numbers drawn for $1.5bn  Progressive_jackpot_other_|jackpot_| # Powerball_other_|Powerball_| # Illinois_State_Lottery_other_|lottery_| # Progressive_jackpot_other_|Jackpot_| #notme http [u'winning', u'ticket', u'sold', u'powerball', u'numbers', u'lottery', u'jackpot', u'drawn', u'california', u'$1.5']\n",
      "41793 0.0102040309136 1 2016-01-13 20:44:55  Powerball  Jackpot. Must see before you buy your ticket!! https://t.co/LqphyiJoY5 # powerball #PowerballFever #PowerballJackpot #news # lottery |  Powerball_other_|Powerball_|  Progressive_jackpot_other_|Jackpot_|. Must see before you buy your ticket!! https://t.co/LqphyiJoY5 # Powerball_other_|powerball_| #PowerballFever #PowerballJackpot #news # Illinois_State_Lottery_other_|lottery_| [u'ticket', u'powerball', u'news', u'lottery', u'jackpot', u'buy']\n",
      "12555 0.0100163541565 2 2016-01-15 06:41:08 Winning ticket sold in  California for record-breaking # Powerball  jackpot # Powerball http | Winning ticket sold in  California_loc_|California_| for record-breaking # Powerball_other_|Powerball_|  Progressive_jackpot_other_|jackpot_| # Powerball_other_|Powerball_| http [u'winning', u'ticket', u'sold', u'record-breaking', u'powerball', u'jackpot', u'california']\n",
      "3819 0.00993757695681 2 2016-01-14 08:23:53  State lottery:  Powerball  jackpot winners in  California,  Florida,  Tennessee: Lottery officials said winning  Powerball tickets for the ... |  Lotteries_in_the_United_States_other_|State_lottery_|:  Powerball_other_|Powerball_|  Progressive_jackpot_other_|jackpot_| winners in  California_loc_|California_|,  Florida_loc_|Florida_|,  Tennessee_loc_|Tennessee_|: Lottery officials said winning  Powerball_other_|Powerball_| tickets for the ... [u'winning', u'winners', u'tickets', u'tennessee', u'state', u'powerball', u'officials', u'lottery', u'jackpot', u'florida', u'california']\n",
      "40059 0.00990202062587 1 2016-01-10 21:19:36 No winner for  Powerball's historic  lottery as  jackpot surges to $1.3 billion  The winning  Powerball numbers,... http | No winner for  Powerball_other_|Powerball_|'s historic  Illinois_State_Lottery_other_|lottery_| as  Progressive_jackpot_other_|jackpot_| surges to $1.3 billion  The winning  Powerball_other_|Powerball_| numbers,... http [u'winning', u'winner', u'powerball', u'numbers', u'lottery', u'jackpot', u'historic', u'billion', u'$1.3']\n",
      "24730 0.00982149060738 2 2016-01-10 10:59:16 RT @JulieBanderas: BREAKING: Lottery: Winning numbers for record  Powerball  jackpot are 32-16-19-57-34 and  Powerball 13. If your ticket matc... | RT @JulieBanderas: BREAKING: Lottery: Winning numbers for record  Powerball_other_|Powerball_|  Progressive_jackpot_other_|jackpot_| are 32-16-19-57-34 and  Powerball_other_|Powerball_| 13. If your ticket matc... [u'winning', u'ticket', u'record', u'powerball', u'numbers', u'lottery', u'jackpot', u'breaking', u'13']\n",
      "11330 0.00975625147727 1 2016-01-13 15:30:28  Powerball  jackpot soars to $1.5 billion... # powerball # lottery # US # jackpot |  Powerball_other_|Powerball_|  Progressive_jackpot_other_|jackpot_| soars to $1.5 billion... # Powerball_other_|powerball_| # Lottery_other_|lottery_| # United_States_loc_|US_| # Progressive_jackpot_other_|jackpot_| [u'soars', u'powerball', u'lottery', u'jackpot', u'billion', u'$1.5']\n",
      "21214 0.00963035714389 1 2016-01-10 13:36:01  RT @CBSMiami: No  Powerball winner,  jackpot may grow to $1.3 billion # Powerball #Lottery  http |  RT_(TV_network)_org_|RT_| @CBSMiami: No  Powerball_other_|Powerball_| winner,  Progressive_jackpot_other_|jackpot_| may grow to $1.3 billion # Powerball_other_|Powerball_| #Lottery  http [u'winner', u'powerball', u'lottery', u'jackpot', u'grow', u'billion', u'$1.3']\n",
      "13841 0.00960371713286 7 2016-01-15 05:00:52  Powerball lottery  jackpot: not a winning ticket for states http |  Powerball_other_|Powerball_| lottery  Progressive_jackpot_other_|jackpot_|: not a winning ticket for states http [u'winning', u'ticket', u'states', u'powerball', u'lottery', u'jackpot']\n",
      "6316 0.00959425096903 16 2016-01-10 04:52:09 Lottery: Winning  Numbers for Record  Powerball  Jackpot Are 32-16-19-57-34 and  Powerball 13: Lottery: Winning nu... http | Lottery: Winning  Book_of_Numbers_other_|Numbers_| for Record  Powerball_other_|Powerball_|  Progressive_jackpot_other_|Jackpot_| Are 32-16-19-57-34 and  Powerball_other_|Powerball_| 13: Lottery: Winning nu... http [u'winning', u'record', u'powerball', u'numbers', u'lottery', u'jackpot', u'13']\n",
      "13547 0.00953213309043 1 2016-01-14 06:10:19 Winning Ticket in $1.6B  Powerball  Jackpot Sold in  California: The  Powerball  jackpot was estimated ... https://t.co/dq1K91U6cq #losangeles | Winning Ticket in $1.6B  Powerball_other_|Powerball_|  Progressive_jackpot_other_|Jackpot_| Sold in  California_loc_|California_|: The  Powerball_other_|Powerball_|  Progressive_jackpot_other_|jackpot_| was estimated ... https://t.co/dq1K91U6cq #losangeles [u'winning', u'ticket', u'sold', u'powerball', u'jackpot', u'estimated', u'california', u'b', u'$1.6']\n",
      "10253 0.00951679188464 3 2016-01-14 12:43:09  Powerball  Jackpot: Winning Tickets in $1.5 Billion Lottery Sold... http |  Powerball_other_|Powerball_|  Progressive_jackpot_other_|Jackpot_|: Winning Tickets in $1.5 Billion Lottery Sold... http [u'winning', u'tickets', u'sold', u'powerball', u'lottery', u'jackpot', u'billion', u'$1.5']\n",
      "31707 0.00949203305481 1 2016-01-14 12:20:45 Winning $2.15 Billion  Lottery Ticket Sold In  California https://t.co/aiNr0q31jm via @ozscooper # powerball | Winning $2.15 Billion  Lottery_other_|Lottery_Ticket_| Sold In  California_loc_|California_| https://t.co/aiNr0q31jm via @ozscooper # Powerball_other_|powerball_| [u'winning', u'ticket', u'sold', u'powerball', u'lottery', u'california', u'billion']\n",
      "24741 0.00948714690286 2 2016-01-08 13:35:53 Winning  Powerball Ticket Sold In  Ocean County - https://t.co/zoHOZK3z3z via @WeJustClosed # Powerball #Lottery #NewJersey #OceanCounty | Winning  Powerball_other_|Powerball_| Ticket Sold In  Ocean_County,_New_Jersey_loc_|Ocean_County_| - https://t.co/zoHOZK3z3z via @WeJustClosed # Powerball_other_|Powerball_| #Lottery #NewJersey #OceanCounty [u'winning', u'ticket', u'sold', u'powerball', u'ocean', u'lottery', u'county']\n",
      "11021 0.00944121834978 1 2016-01-14 09:21:46 So glad this is over.... # Powerball   Powerball: At Least 3 Winning Tickets Sold for Record $1.5 Billion Lottery  Jackpot, Officials Say | So glad this is over.... # Powerball_other_|Powerball_|   Powerball_other_|Powerball_|: At Least 3 Winning Tickets Sold for Record $1.5 Billion Lottery  Progressive_jackpot_other_|Jackpot_|, Officials Say [u'winning', u'tickets', u'sold', u'say', u'record', u'powerball', u'officials', u'lottery', u'jackpot', u'glad', u'billion', u'3', u'$1.5']\n",
      "26570 0.00940977723754 1 2016-01-14 13:19:21  Florida  Powerball  jackpot ticket sold at  Publix in  Melbourne Beach: One of three winning  jackpot  Powerball tickets... http |  Florida_loc_|Florida_|  Powerball_other_|Powerball_|  Progressive_jackpot_other_|jackpot_| ticket sold at  Publix_org_|Publix_| in  Melbourne_Beach,_Florida_loc_|Melbourne_Beach_|: One of three winning  Progressive_jackpot_other_|jackpot_|  Powerball_other_|Powerball_| tickets... http [u'winning', u'tickets', u'ticket', u'sold', u'publix', u'powerball', u'melbourne', u'jackpot', u'florida', u'beach']\n",
      "36888 0.0094011167595 1 2016-01-15 03:30:16 Three winners share $1.6bn  US  lottery  Powerball  jackpot # powerball http | Three winners share $1.6bn  United_States_loc_|US_|  Lottery_other_|lottery_|  Powerball_other_|Powerball_|  Progressive_jackpot_other_|jackpot_| # Powerball_other_|powerball_| http [u'winners', u'share', u'powerball', u'lottery', u'jackpot', u'$1.6']\n",
      "40372 0.0093985000958 1 2016-01-10 19:21:27 ( Utica  OD) No  Powerball winner;  jackpot at record $1.3 billion: No one held a winning  Powerball ticket Saturda... http | ( Utica,_New_York_loc_|Utica_|  Ordnance_Datum_other_|OD_|) No  Powerball_other_|Powerball_| winner;  Progressive_jackpot_other_|jackpot_| at record $1.3 billion: No one held a winning  Powerball_other_|Powerball_| ticket Saturda... http [u'winning', u'winner', u'ticket', u'record', u'powerball', u'jackpot', u'held', u'billion', u'$1.3']\n",
      "31989 0.00938832889305 1 2016-01-14 10:39:14  Powerball: Winning Ticket Sold In  California For $one.five Billion  Jackpot - http |  Powerball_other_|Powerball_|: Winning Ticket Sold In  California_loc_|California_| For $one.five Billion  Progressive_jackpot_other_|Jackpot_| - http [u'winning', u'ticket', u'sold', u'powerball', u'jackpot', u'california', u'billion']\n"
     ]
    }
   ],
   "source": [
    "nScore, tScore = triHits(np.ones(newsScore.shape), np.ones(tweetsScore.shape), NE, EN, TE, ET, 1, 1, 50)\n",
    "print np.linalg.norm(norm2(newsScore)[:10] - nScore[:10])\n",
    "print \"=========\"\n",
    "kSummary=20\n",
    "printSummary(norm2(newsScore),norm2(tweetsScore),sentencesIn,sentencesInObj,tweetsIn,tweetsInObj,kSummary)\n",
    "print \"*****\"\n",
    "printSummary(nScore,tScore,sentencesIn,sentencesInObj,tweetsIn,tweetsInObj,kSummary)"
   ]
  },
  {
   "cell_type": "code",
   "execution_count": 17,
   "metadata": {
    "collapsed": false,
    "scrolled": true
   },
   "outputs": [
    {
     "name": "stdout",
     "output_type": "stream",
     "text": [
      "(294, 20)\n",
      "====\n",
      "===\n",
      "0 powerball_other_|\n",
      "0 progressive_jackpot_other_|\n",
      "-11 lottery_other_|\n",
      "-2 chino_hills,_california_loc_|\n",
      "-8 california_state_lottery_other_|\n",
      "5 7-eleven_org_|\n",
      "2 prize_other_|\n",
      "2 california_loc_|\n",
      "-5 florida_loc_|\n",
      "-1 tennessee_loc_|\n",
      "10 the_tonight_show_other_|\n",
      "-3 territories_of_the_united_states_other_|\n",
      "-4 publix_org_|\n",
      "1 illinois_state_lottery_other_|\n",
      "2 brain_other_|\n",
      "8 gambling_other_|\n",
      "-8 multi-state_lottery_association_other_|\n",
      "10 billionaire_other_|\n",
      "4 financial_adviser_other_|\n",
      "-2 odds_other_|\n"
     ]
    }
   ],
   "source": [
    "print NE.shape\n",
    "res1 = printRankedEnt(NE.T.dot(nScore),ents,100)\n",
    "print \"====\"\n",
    "res2 = printRankedEnt(TE.T.dot(tScore),ents,100)\n",
    "print \"===\"\n",
    "for e in ents:\n",
    "    print res2[e] - res1[e],e"
   ]
  },
  {
   "cell_type": "code",
   "execution_count": 14,
   "metadata": {
    "collapsed": false
   },
   "outputs": [
    {
     "name": "stdout",
     "output_type": "stream",
     "text": [
      "591\n",
      "United_States_loc_|Americans_| have a chance to join the  Billionaire_other_|billionaire_|'s club Wednesday night, with the  Powerball_other_|Powerball_| reaching a historic $1.5 billion.\n"
     ]
    },
    {
     "ename": "NameError",
     "evalue": "name 'ent_text' is not defined",
     "output_type": "error",
     "traceback": [
      "\u001b[1;31m---------------------------------------------------------------------------\u001b[0m",
      "\u001b[1;31mNameError\u001b[0m                                 Traceback (most recent call last)",
      "\u001b[1;32m<ipython-input-14-c3ef855f4541>\u001b[0m in \u001b[0;36m<module>\u001b[1;34m()\u001b[0m\n\u001b[0;32m      9\u001b[0m \u001b[1;32mfor\u001b[0m \u001b[0msentence\u001b[0m \u001b[1;32min\u001b[0m \u001b[0msentences\u001b[0m\u001b[1;33m:\u001b[0m\u001b[1;33m\u001b[0m\u001b[0m\n\u001b[0;32m     10\u001b[0m     \u001b[1;32mprint\u001b[0m \u001b[0msentence\u001b[0m\u001b[1;33m\u001b[0m\u001b[0m\n\u001b[1;32m---> 11\u001b[1;33m     \u001b[0ms\u001b[0m \u001b[1;33m=\u001b[0m \u001b[0mmakeEntText\u001b[0m\u001b[1;33m(\u001b[0m\u001b[0msentence\u001b[0m\u001b[1;33m,\u001b[0m\u001b[0ment_text\u001b[0m\u001b[1;33m)\u001b[0m\u001b[1;33m\u001b[0m\u001b[0m\n\u001b[0m\u001b[0;32m     12\u001b[0m     \u001b[1;32mprint\u001b[0m \u001b[1;34m\"---\"\u001b[0m\u001b[1;33m\u001b[0m\u001b[0m\n\u001b[0;32m     13\u001b[0m     \u001b[1;32mprint\u001b[0m \u001b[0ms\u001b[0m\u001b[1;33m\u001b[0m\u001b[0m\n",
      "\u001b[1;31mNameError\u001b[0m: name 'ent_text' is not defined"
     ]
    }
   ],
   "source": [
    "count = 0\n",
    "for i in range(len(newsObj)):\n",
    "    b_ent = newsObj[i].b_ent\n",
    "    sentences = sent_detector.tokenize(b_ent.strip())\n",
    "    \n",
    "    count += len(sentences)\n",
    "print count\n",
    "\n",
    "for sentence in sentences:\n",
    "    print sentence\n",
    "    s = makeEntText(sentence,ent_text)    \n",
    "    print \"---\"\n",
    "    print s\n",
    "    print \"=====\""
   ]
  },
  {
   "cell_type": "code",
   "execution_count": 22,
   "metadata": {
    "collapsed": false,
    "scrolled": true
   },
   "outputs": [
    {
     "name": "stdout",
     "output_type": "stream",
     "text": [
      "powerball_other_|\n",
      "[u'powerball', u'jackpot', u'lottery', u'million', u'tickets', u'billion', u'drawing', u'officials', u'states', u'state']\n",
      "[u'powerball', u'jackpot', u'win', u'billion', u'winning', u'ticket', u'buy', u'know', u'lottery', u'million']\n",
      "+++++++++\n",
      "progressive_jackpot_other_|\n",
      "[u'jackpot', u'million', u'powerball', u'lottery', u'billion', u'officials', u'drawing', u'winner', u'winners', u'winning']\n",
      "[u'jackpot', u'powerball', u'billion', u'$1.5', u'lottery', u'winning', u'million', u'win', u'winner', u'winners']\n",
      "+++++++++\n",
      "lottery_other_|\n",
      "[u'lottery', u'jackpot', u'officials', u'powerball', u'tickets', u'state', u'million', u'billion', u'california', u'wednesday']\n",
      "[u'lottery', u'ticket', u'powerball', u'win', u'buy', u'billion', u'winning', u'bought', u'jackpot', u'lotto']\n",
      "+++++++++\n",
      "chino_hills,_california_loc_|\n",
      "[u'hills', u'chino', u'store', u'california', u'7', u'lottery', u'sold', u'wednesday', u'tickets', u'night']\n",
      "[u'chino', u'hills', u'powerball', u'winning', u'ticket', u'sold', u'winner', u'jackpot', u'california', u'know']\n",
      "+++++++++\n",
      "california_state_lottery_other_|\n",
      "[u'lottery', u'california', u'spokesman', u'alex', u'traverso', u'jackpot', u'million', u'powerball', u'tickets', u'officials']\n",
      "[u'california', u'lottery', u'powerball', u'winning', u'sold', u'jackpot', u'says', u'ticket', u'winner', u'tickets']\n",
      "+++++++++\n",
      "7-eleven_org_|\n",
      "[u'7', u'liquor', u'store', u'santa', u'sold', u'lottery', u'california', u'tickets', u'officials', u'ticket']\n",
      "[u'powerball', u'7', u'winning', u'ticket', u'sold', u'chino', u'hills', u'california', u'billion', u'store']\n",
      "+++++++++\n",
      "prize_other_|\n",
      "[u'prize', u'lottery', u'billion', u'million', u'jackpot', u'largest', u'north', u'far', u'america', u'current']\n",
      "[u'prize', u'powerball', u'jackpot', u'billion', u'lottery', u'million', u'$1.5', u'winners', u'winning', u'winner']\n",
      "+++++++++\n",
      "california_loc_|\n",
      "[u'california', u'lottery', u'powerball', u'ticket', u'million', u'tickets', u'jackpot', u'sold', u'players', u'winners']\n",
      "[u'powerball', u'california', u'winning', u'jackpot', u'sold', u'florida', u'tennessee', u'tickets', u'winner', u'billion']\n",
      "+++++++++\n",
      "florida_loc_|\n",
      "[u'florida', u'jackpot', u'lottery', u'powerball', u'tennessee', u'won', u'california', u'ticket', u'million', u'officials']\n",
      "[u'powerball', u'florida', u'winning', u'tennessee', u'california', u'sold', u'tickets', u'jackpot', u'winners', u'3']\n",
      "+++++++++\n",
      "tennessee_loc_|\n",
      "[u'tennessee', u'florida', u'officials', u'winners', u'california', u'powerball', u'lottery', u'tickets', u'jackpot', u'angeles']\n",
      "[u'powerball', u'tennessee', u'jackpot', u'winning', u'winners', u'florida', u'couple', u'california', u'tickets', u'sold']\n",
      "+++++++++\n",
      "the_tonight_show_other_|\n",
      "[u'tonight', u'powerball', u'know', u'facts', u'drawing', u'13']\n",
      "[u'powerball', u'tonight', u'drawing', u'jackpot', u'billion', u'$1.5', u'win', u'news', u'13', u'know']\n",
      "+++++++++\n",
      "territories_of_the_united_states_other_|\n",
      "[u'u', u'territories', u'44', u'states', u'powerball', u'played', u'c', u'washington', u'd', u'game']\n",
      "[]\n",
      "+++++++++\n",
      "publix_org_|\n",
      "[u'publix', u'ticket', u'wednesday', u'florida', u'melbourne', u'california', u'beach', u'winning', u'7', u'jackpot']\n",
      "[u'publix', u'powerball', u'winning', u'melbourne', u'ticket', u'sold', u'beach', u'florida', u'tickets', u'jackpot']\n",
      "+++++++++\n",
      "illinois_state_lottery_other_|\n",
      "[u'lottery', u'officials', u'jackpot', u'million', u'maryland', u'powerball', u'tickets', u'according', u'medenica', u'days']\n",
      "[u'lottery', u'powerball', u'jackpot', u'winning', u'winner', u'drawing', u'largest', u'ticket', u'billion', u'$1.5']\n",
      "+++++++++\n",
      "brain_other_|\n",
      "[u'brain', u'reward', u'fields', u'area', u'related', u'cautious', u'favor', u'explain', u'experiences', u'excitement']\n",
      "[u'brain', u'powerball', u'buy', u'lottery', u'ticket', u'need', u'money', u\"don't\", u'winning', u'forget']\n",
      "+++++++++\n",
      "gambling_other_|\n",
      "[u'odds', u'million', u'winning', u'1', u'jackpot', u'292', u'gambling', u'prize', u'professor', u'gambler']\n",
      "[u'powerball', u'gambling', u'lottery', u'ticket', u'jackpot', u'win', u'billion', u'buy', u'tickets', u'know']\n",
      "+++++++++\n",
      "multi-state_lottery_association_other_|\n",
      "[u'lottery', u'association', u'multi-state', u'according', u'payout', u'powerball', u'years', u'drawing', u'worth', u'instead']\n",
      "[u'lottery', u'multi-state', u'association', u'billion', u'powerball', u'numbers', u'jackpot', u'winning', u'worth', u'$900']\n",
      "+++++++++\n",
      "billionaire_other_|\n",
      "[u'billionaire', u'powerball', u'prospect', u'lottery', u'chance', u'gas', u'expected', u'fever', u'frenzy', u'future']\n",
      "[u'billionaire', u'powerball', u'lottery', u'win', u'jackpot', u'ticket', u'billion', u'know', u'tonight', u'winner']\n",
      "+++++++++\n",
      "financial_adviser_other_|\n",
      "[u'financial', u'adviser', u'winners', u'snow', u'clients', u'lottery', u'really', u'years', u'custody', u'jackpot']\n",
      "[u'financial', u'powerball', u'advisor', u'win', u'lawyer', u'adviser', u'know', u'jackpot', u'hire', u'good']\n",
      "+++++++++\n",
      "odds_other_|\n",
      "[u'odds', u'1', u'million', u'lottery', u'officials', u'292.2', u'jackpot', u'winning', u'game', u'people']\n",
      "[u'odds', u'powerball', u'winning', u'1', u'million', u'jackpot', u'ticket', u'win', u'lottery', u'buy']\n",
      "+++++++++\n"
     ]
    }
   ],
   "source": [
    "for i in range(topK):\n",
    "#i=18\n",
    "    print ents[i]\n",
    "    printTopWords(i,XEn,vocab,10)\n",
    "    printTopWords(i,XEt,vocab,10)\n",
    "    print \"+++++++++\""
   ]
  }
 ],
 "metadata": {
  "kernelspec": {
   "display_name": "Python 2",
   "language": "python",
   "name": "python2"
  },
  "language_info": {
   "codemirror_mode": {
    "name": "ipython",
    "version": 2
   },
   "file_extension": ".py",
   "mimetype": "text/x-python",
   "name": "python",
   "nbconvert_exporter": "python",
   "pygments_lexer": "ipython2",
   "version": "2.7.10"
  }
 },
 "nbformat": 4,
 "nbformat_minor": 0
}
