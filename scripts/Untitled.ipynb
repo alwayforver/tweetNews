{
 "cells": [
  {
   "cell_type": "code",
   "execution_count": 7,
   "metadata": {
    "collapsed": false
   },
   "outputs": [
    {
     "name": "stdout",
     "output_type": "stream",
     "text": [
      "===\n",
      "[((1, 2, 3, 4, 5, 6, 7, 8), 1), ((2, 3, 4, 5, 6, 7, 8, 9), 11), ((1, 1, 1, 1, 1, 1, 0, 1), 140)]\n",
      "===\n",
      "===\n",
      "[((1, 1, 1, 1, 1, 1, 0, 1), 0), ((1, 2, 3, 4, 5, 6, 7, 8), 153), ((2, 3, 4, 5, 6, 7, 8, 9), 219)]\n",
      "===\n"
     ]
    },
    {
     "data": {
      "text/plain": [
       "[((1, 1, 1, 1, 1, 1, 0, 1), 0),\n",
       " ((1, 2, 3, 4, 5, 6, 7, 8), 153),\n",
       " ((2, 3, 4, 5, 6, 7, 8, 9), 219)]"
      ]
     },
     "execution_count": 7,
     "metadata": {},
     "output_type": "execute_result"
    }
   ],
   "source": [
    "from lshash import LSHash\n",
    "lsh = LSHash(6, 8)\n",
    "lsh.index([2,3,4,5,6,7,8,9])\n",
    "lsh.index([1,2,3,4,5,6,7,8])\n",
    "lsh.index([10,12,99,1,5,31,2,3])\n",
    "lsh.index([1,1,1,1,1,1,0,0])\n",
    "lsh.index([1,1,1,1,1,1,0,1])\n",
    "lsh.query([1,2,3,4,5,6,7,7])\n",
    "lsh.query([1,1,1,1,1,1,0,1])\n",
    "\n"
   ]
  },
  {
   "cell_type": "code",
   "execution_count": 4,
   "metadata": {
    "collapsed": false
   },
   "outputs": [
    {
     "data": {
      "text/plain": [
       "<lshash.storage.InMemoryStorage at 0x7f0f7c70b6d0>"
      ]
     },
     "execution_count": 4,
     "metadata": {},
     "output_type": "execute_result"
    }
   ],
   "source": [
    "lsh.hash_tables[0]\n"
   ]
  },
  {
   "cell_type": "code",
   "execution_count": 5,
   "metadata": {
    "collapsed": false
   },
   "outputs": [
    {
     "data": {
      "text/plain": [
       "['/home/jwang112/local/lib/python2.7/site-packages/lshash']"
      ]
     },
     "execution_count": 5,
     "metadata": {},
     "output_type": "execute_result"
    }
   ],
   "source": [
    "lshash.__path__\n"
   ]
  },
  {
   "cell_type": "code",
   "execution_count": 7,
   "metadata": {
    "collapsed": false
   },
   "outputs": [],
   "source": [
    "from bitarray import bitarray"
   ]
  },
  {
   "cell_type": "code",
   "execution_count": 8,
   "metadata": {
    "collapsed": false
   },
   "outputs": [],
   "source": [
    "import operator\n",
    "x = {1: 2, 3: 4, 4: 3, 2: 1, 0: 0}\n",
    "sorted_x = sorted(x.items(), key=operator.itemgetter(1))"
   ]
  },
  {
   "cell_type": "code",
   "execution_count": 32,
   "metadata": {
    "collapsed": false
   },
   "outputs": [
    {
     "name": "stdout",
     "output_type": "stream",
     "text": [
      "[0]\n",
      "==\n",
      "[0 3]\n"
     ]
    }
   ],
   "source": [
    "from scipy.sparse import *\n",
    "a = csr_matrix([1,0,1,1,0])\n",
    "print (a.indices[0:31])\n",
    "print \"==\"\n",
    "print a.indptr"
   ]
  },
  {
   "cell_type": "code",
   "execution_count": 10,
   "metadata": {
    "collapsed": false
   },
   "outputs": [
    {
     "data": {
      "text/plain": [
       "['RT',\n",
       " 'harden_ken',\n",
       " 'The',\n",
       " 'powerball',\n",
       " 'lottery',\n",
       " 'jackpot',\n",
       " 'is',\n",
       " 'at',\n",
       " '675',\n",
       " 'million']"
      ]
     },
     "execution_count": 10,
     "metadata": {},
     "output_type": "execute_result"
    }
   ],
   "source": [
    "token_pattern=r\"(?u)\\b\\w\\w+\\b\"\n",
    "import re\n",
    "token_pattern = re.compile(token_pattern)\n",
    "text = \"\"\"RT @harden_ken: The powerball #lottery jackpot is at $675 million\"\"\"\n",
    "token_pattern.findall(text)"
   ]
  },
  {
   "cell_type": "code",
   "execution_count": 11,
   "metadata": {
    "collapsed": false
   },
   "outputs": [
    {
     "data": {
      "text/plain": [
       "u'RT harden_ken powerball lottery jackpot $675 million'"
      ]
     },
     "execution_count": 11,
     "metadata": {},
     "output_type": "execute_result"
    }
   ],
   "source": [
    "from utils import tweet_tokenizer\n",
    "text = \"\"\"RT @harden_ken: The powerball #lottery jackpot is at $675 million\"\"\"\n",
    "my_tokenizer(text,'reg')\n"
   ]
  },
  {
   "cell_type": "code",
   "execution_count": 10,
   "metadata": {
    "collapsed": false
   },
   "outputs": [
    {
     "data": {
      "text/plain": [
       "['powerball', 'lottery', \"jackpot's\", '$675.5', 'B', 'million']"
      ]
     },
     "execution_count": 10,
     "metadata": {},
     "output_type": "execute_result"
    }
   ],
   "source": [
    "from utils import tweet_tokenizer\n",
    "text = \"\"\"RT @harden_ken: The powerball #lottery jackpot's is at $675.5B million\"\"\"\n",
    "tweet_tokenizer(text,'reg')\n"
   ]
  },
  {
   "cell_type": "code",
   "execution_count": 4,
   "metadata": {
    "collapsed": false
   },
   "outputs": [
    {
     "name": "stdout",
     "output_type": "stream",
     "text": [
      "['a' 'b' 'c']\n",
      "['a' 'c']\n",
      "['d' 'b' 'c']\n",
      "['a' 'c']\n"
     ]
    }
   ],
   "source": [
    "a=np.array(['a','b','c'])\n",
    "import numpy as np\n",
    "b = a[np.array([0,2])]\n",
    "print a\n",
    "print b\n",
    "a[0]='d'\n",
    "print a\n",
    "print b\n"
   ]
  },
  {
   "cell_type": "code",
   "execution_count": 54,
   "metadata": {
    "collapsed": false
   },
   "outputs": [
    {
     "data": {
      "text/plain": [
       "array([ 1.,  1.,  1.])"
      ]
     },
     "execution_count": 54,
     "metadata": {},
     "output_type": "execute_result"
    }
   ],
   "source": [
    "from scipy.sparse import csr_matrix\n",
    "csr_matrix(([1,2,3], [1,0,2], [0,2,3,3]), shape=(3, 3)).toarray()\n",
    "np.ones(5)[np.array([0,1,3])]"
   ]
  },
  {
   "cell_type": "code",
   "execution_count": 12,
   "metadata": {
    "collapsed": false
   },
   "outputs": [],
   "source": [
    "from utils import grep_ent"
   ]
  },
  {
   "cell_type": "code",
   "execution_count": 16,
   "metadata": {
    "collapsed": false
   },
   "outputs": [
    {
     "name": "stdout",
     "output_type": "stream",
     "text": [
      "none\n"
     ]
    }
   ],
   "source": [
    "text = \"\"\"Illinois_State_Lottery_other_|lottery_|  Progressive_jackpot_other_|jackpot_| for one winner:  New_York_loc_|NEW_ORK_|: The  Powerball_other_|Powerball_|  Illinois_State_Lottery_other_|lottery_|\"\"\"\n",
    "text = \"\"\"fdsf fdsfds fdsfds\"\"\"\n",
    "a = grep_ent(text,True,True,True,True).split()\n",
    "if not a:\n",
    "    print 'none'\n"
   ]
  },
  {
   "cell_type": "code",
   "execution_count": 26,
   "metadata": {
    "collapsed": false
   },
   "outputs": [
    {
     "data": {
      "text/plain": [
       "\"fds's_| fds\""
      ]
     },
     "execution_count": 26,
     "metadata": {},
     "output_type": "execute_result"
    }
   ],
   "source": [
    "from utils import rep2\n",
    "rep2.sub('', \"\"\"fds's_| fds\"\"\")"
   ]
  },
  {
   "cell_type": "code",
   "execution_count": 36,
   "metadata": {
    "collapsed": false
   },
   "outputs": [
    {
     "name": "stdout",
     "output_type": "stream",
     "text": [
      "[[ 0.31622777  0.4472136 ]\n",
      " [ 0.9486833   0.89442719]]\n"
     ]
    },
    {
     "data": {
      "text/plain": [
       "1.000000006218063"
      ]
     },
     "execution_count": 36,
     "metadata": {},
     "output_type": "execute_result"
    }
   ],
   "source": [
    "from sklearn.preprocessing import normalize\n",
    "a = normalize([[1.0,2.0],[3.0,4.0]],axis=0)\n",
    "print a\n",
    "0.31622777**2+0.9486833**2"
   ]
  },
  {
   "cell_type": "code",
   "execution_count": null,
   "metadata": {
    "collapsed": true
   },
   "outputs": [],
   "source": [
    "from scipy.sparse import csc_matrix\n",
    "csc_matrix(([1,2], ([1,2], [0,2])), shape=(3, 3))\n"
   ]
  },
  {
   "cell_type": "code",
   "execution_count": 21,
   "metadata": {
    "collapsed": false
   },
   "outputs": [
    {
     "name": "stdout",
     "output_type": "stream",
     "text": [
      "The autoreload extension is already loaded. To reload it, use:\n",
      "  %reload_ext autoreload\n",
      "==n converge 31 0.0\n",
      "==n converge 33 0.0\n",
      "[ 0.39872611  0.91707006] [ 0.4  0.4  0.4  0.6  0.4]\n",
      "[ 0.52409743  0.85165832] [ 0.48507125  0.72760688  0.48507125]\n"
     ]
    },
    {
     "data": {
      "text/plain": [
       "(0.6666666666666667, 0.6666666620854382)"
      ]
     },
     "execution_count": 21,
     "metadata": {},
     "output_type": "execute_result"
    }
   ],
   "source": [
    "%load_ext autoreload\n",
    "%autoreload 2\n",
    "import numpy as np\n",
    "from utils import coHits\n",
    "from eknot_utils import normBypartite\n",
    "NE_ = np.array([[0.1, 0.1,0.1,0.2,0.5],[0.5,0.5,0.5,0.7,0.1]])\n",
    "NE,EN = normBypartite(NE_)\n",
    "\n",
    "NE2_ = np.array([[0.1,0.2,0.5],[.5,0.7,0.1]])\n",
    "NE2,EN2 = normBypartite(NE2_)\n",
    "\n",
    "nscore = np.array([1,1])\n",
    "escore = np.array([1,1,1,1,1])\n",
    "escore2 = np.array([1,1,1])\n",
    "\n",
    "nScore,eScore = coHits(nscore,escore,NE,EN,1,1,50)\n",
    "nScore2,eScore2 = coHits(nscore,escore2,NE2,EN2,1,1,50)\n",
    "\n",
    "print nScore,eScore\n",
    "print nScore2,eScore2\n",
    "\n",
    "0.4/0.6 ,0.48507125/0.72760688     "
   ]
  },
  {
   "cell_type": "code",
   "execution_count": 17,
   "metadata": {
    "collapsed": false
   },
   "outputs": [
    {
     "name": "stdout",
     "output_type": "stream",
     "text": [
      "[1]\n"
     ]
    }
   ],
   "source": [
    "a=' RT_(TV_network)_org_|RT_| @ Vice_(magazine)_other_|VICE_|:  Bernie_Sanders_per_|Bernie_Sanders_| is pulling ahead of  Hillary_Rodham_Clinton_per_|Hillary_Clinton_| in  Iowa_loc_|Iowa_|, according to new poll http'\n",
    "e = "
   ]
  },
  {
   "cell_type": "code",
   "execution_count": 25,
   "metadata": {
    "collapsed": false
   },
   "outputs": [
    {
     "ename": "TypeError",
     "evalue": "list indices must be integers, not list",
     "output_type": "error",
     "traceback": [
      "\u001b[1;31m---------------------------------------------------------------------------\u001b[0m",
      "\u001b[1;31mTypeError\u001b[0m                                 Traceback (most recent call last)",
      "\u001b[1;32m<ipython-input-25-632a75a8899f>\u001b[0m in \u001b[0;36m<module>\u001b[1;34m()\u001b[0m\n\u001b[0;32m      2\u001b[0m \u001b[0mcsc_matrix\u001b[0m\u001b[1;33m(\u001b[0m\u001b[1;33m(\u001b[0m\u001b[1;33m[\u001b[0m\u001b[1;36m1\u001b[0m\u001b[1;33m,\u001b[0m\u001b[1;36m2\u001b[0m\u001b[1;33m]\u001b[0m\u001b[1;33m,\u001b[0m \u001b[1;33m(\u001b[0m\u001b[1;33m[\u001b[0m\u001b[1;36m1\u001b[0m\u001b[1;33m,\u001b[0m\u001b[1;36m2\u001b[0m\u001b[1;33m]\u001b[0m\u001b[1;33m,\u001b[0m \u001b[1;33m[\u001b[0m\u001b[1;36m0\u001b[0m\u001b[1;33m,\u001b[0m\u001b[1;36m2\u001b[0m\u001b[1;33m]\u001b[0m\u001b[1;33m)\u001b[0m\u001b[1;33m)\u001b[0m\u001b[1;33m,\u001b[0m \u001b[0mshape\u001b[0m\u001b[1;33m=\u001b[0m\u001b[1;33m(\u001b[0m\u001b[1;36m3\u001b[0m\u001b[1;33m,\u001b[0m \u001b[1;36m3\u001b[0m\u001b[1;33m)\u001b[0m\u001b[1;33m)\u001b[0m\u001b[1;33m.\u001b[0m\u001b[0mexpm1\u001b[0m\u001b[1;33m(\u001b[0m\u001b[1;33m)\u001b[0m\u001b[1;33m.\u001b[0m\u001b[0mtoarray\u001b[0m\u001b[1;33m(\u001b[0m\u001b[1;33m)\u001b[0m\u001b[1;33m\u001b[0m\u001b[0m\n\u001b[0;32m      3\u001b[0m \u001b[0ma\u001b[0m \u001b[1;33m=\u001b[0m \u001b[1;33m[\u001b[0m\u001b[1;36m1\u001b[0m\u001b[1;33m,\u001b[0m\u001b[1;36m2\u001b[0m\u001b[1;33m,\u001b[0m\u001b[1;36m3\u001b[0m\u001b[1;33m,\u001b[0m\u001b[1;36m4\u001b[0m\u001b[1;33m,\u001b[0m\u001b[1;36m5\u001b[0m\u001b[1;33m]\u001b[0m\u001b[1;33m\u001b[0m\u001b[0m\n\u001b[1;32m----> 4\u001b[1;33m \u001b[0mb\u001b[0m\u001b[1;33m=\u001b[0m\u001b[0ma\u001b[0m\u001b[1;33m[\u001b[0m\u001b[1;33m[\u001b[0m\u001b[1;36m1\u001b[0m\u001b[1;33m,\u001b[0m\u001b[1;36m2\u001b[0m\u001b[1;33m]\u001b[0m\u001b[1;33m]\u001b[0m\u001b[1;33m\u001b[0m\u001b[0m\n\u001b[0m\u001b[0;32m      5\u001b[0m \u001b[1;32mprint\u001b[0m \u001b[0mb\u001b[0m\u001b[1;33m\u001b[0m\u001b[0m\n",
      "\u001b[1;31mTypeError\u001b[0m: list indices must be integers, not list"
     ]
    }
   ],
   "source": [
    "from scipy.sparse import csc_matrix\n",
    "csc_matrix(([1,2], ([1,2], [0,2])), shape=(3, 3)).expm1().toarray()\n",
    "a = [1,2,3,4,5]\n",
    "b=a[[1,2]]\n",
    "print b"
   ]
  }
 ],
 "metadata": {
  "kernelspec": {
   "display_name": "Python 2",
   "language": "python",
   "name": "python2"
  },
  "language_info": {
   "codemirror_mode": {
    "name": "ipython",
    "version": 2
   },
   "file_extension": ".py",
   "mimetype": "text/x-python",
   "name": "python",
   "nbconvert_exporter": "python",
   "pygments_lexer": "ipython2",
   "version": "2.7.10"
  }
 },
 "nbformat": 4,
 "nbformat_minor": 0
}
